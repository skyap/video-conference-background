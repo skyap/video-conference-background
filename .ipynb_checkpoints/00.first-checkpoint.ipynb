{
 "cells": [
  {
   "cell_type": "markdown",
   "metadata": {},
   "source": [
    "sudo modprobe  v4l2loopback device=2 exclusive_caps=1 card_label=\"Fake\"  \n",
    "ls /dev | grep -P '^video\\d+$'"
   ]
  },
  {
   "cell_type": "markdown",
   "metadata": {},
   "source": [
    "https://github.com/spatialaudio/python-sounddevice"
   ]
  },
  {
   "cell_type": "markdown",
   "metadata": {},
   "source": [
    "https://github.com/karanvivekbhargava/obamanet"
   ]
  },
  {
   "cell_type": "code",
   "execution_count": 2,
   "metadata": {},
   "outputs": [
    {
     "name": "stdout",
     "output_type": "stream",
     "text": [
      "('get capabilities result', 0)\n",
      "('capabilities', '0x85208001')\n",
      "v4l2 driver: b'v4l2 loopback'\n"
     ]
    }
   ],
   "source": [
    "import pyfakewebcam\n",
    "import numpy as np\n",
    "import time\n",
    "import timeit\n",
    "import cv2\n",
    "import sys\n",
    "\n",
    "from PIL import Image\n",
    "\n",
    "def shift_image(img, dx, dy):\n",
    "    img = np.roll(img, dy, axis=0)\n",
    "    img = np.roll(img, dx, axis=1)\n",
    "    if dy>0:\n",
    "        img[:dy, :] = 0\n",
    "    elif dy<0:\n",
    "        img[dy:, :] = 0\n",
    "    if dx>0:\n",
    "        img[:, :dx] = 0\n",
    "    elif dx<0:\n",
    "        img[:, dx:] = 0\n",
    "    return img\n",
    "\n",
    "def hologram_effect(img):\n",
    "    # add a blue tint\n",
    "    holo = cv2.applyColorMap(img, cv2.COLORMAP_WINTER)\n",
    "    # add a halftone effect\n",
    "    bandLength, bandGap = 2, 3\n",
    "    for y in range(holo.shape[0]):\n",
    "        if y % (bandLength+bandGap) < bandLength:\n",
    "            holo[y,:,:] = holo[y,:,:] * np.random.uniform(0.1, 0.3)\n",
    "    # add some ghosting\n",
    "    holo_blur = cv2.addWeighted(holo, 0.2, shift_image(holo.copy(), 5, 5), 0.8, 0)\n",
    "    holo_blur = cv2.addWeighted(holo_blur, 0.4, shift_image(holo.copy(), -5, -5), 0.6, 0)\n",
    "    # combine with the original color, oversaturated\n",
    "    out = cv2.addWeighted(img, 0.5, holo_blur, 0.6, 0)\n",
    "    return out\n",
    "\n",
    "cam = pyfakewebcam.FakeWebcam('/dev/video2', 1280, 720)\n",
    "cam.print_capabilities()\n",
    "\n",
    "cap = cv2.VideoCapture(0)\n",
    "\n",
    "#set the width and height\n",
    "cap.set(3,1280)\n",
    "cap.set(4,720)\n",
    "\n",
    "\n",
    "\n",
    "while(cap.isOpened()):\n",
    "    ret, frame = cap.read()\n",
    "    if ret==True:\n",
    "\n",
    "        frame = hologram_effect(frame)\n",
    "        cv2.imshow('frame',frame)\n",
    "        frame = cv2.cvtColor(frame, cv2.COLOR_BGR2RGB)\n",
    "        cam.schedule_frame(frame)\n",
    "        #show the captured frame\n",
    "       \n",
    "        if cv2.waitKey(1) & 0xFF == ord('q'):\n",
    "            break\n",
    "    else:\n",
    "        break\n",
    "\n",
    "# Release everything if job is finished\n",
    "cap.release()\n",
    "cv2.destroyAllWindows()"
   ]
  },
  {
   "cell_type": "code",
   "execution_count": null,
   "metadata": {},
   "outputs": [],
   "source": []
  }
 ],
 "metadata": {
  "kernelspec": {
   "display_name": "Python 3",
   "language": "python",
   "name": "python3"
  },
  "language_info": {
   "codemirror_mode": {
    "name": "ipython",
    "version": 3
   },
   "file_extension": ".py",
   "mimetype": "text/x-python",
   "name": "python",
   "nbconvert_exporter": "python",
   "pygments_lexer": "ipython3",
   "version": "3.6.9"
  }
 },
 "nbformat": 4,
 "nbformat_minor": 2
}
