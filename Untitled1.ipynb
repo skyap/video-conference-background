{
 "cells": [
  {
   "cell_type": "code",
   "execution_count": 1,
   "metadata": {},
   "outputs": [],
   "source": [
    "from threading import Thread\n",
    "import os\n",
    "import cv2\n",
    "import numpy as np\n",
    "import requests\n",
    "import pyfakewebcam\n",
    "import pafy\n",
    "from datetime import datetime   \n",
    "import time"
   ]
  },
  {
   "cell_type": "code",
   "execution_count": 2,
   "metadata": {},
   "outputs": [],
   "source": [
    "def putIterationsPerSec(frame, iterations_per_sec):\n",
    "    \"\"\"\n",
    "    Add iterations per second text to lower-left corner of a frame.\n",
    "    \"\"\"\n",
    "    cv2.putText(frame, \"{:.0f} iterations/sec\".format(iterations_per_sec),\n",
    "        (10, 20), cv2.FONT_HERSHEY_SIMPLEX, 1.0, (255, 255, 255))\n",
    "    return frame\n",
    "\n",
    "class CountsPerSec:\n",
    "    \"\"\"\n",
    "    Class that tracks the number of occurrences (\"counts\") of an\n",
    "    arbitrary event and returns the frequency in occurrences\n",
    "    (counts) per second. The caller must increment the count.\n",
    "    \"\"\"\n",
    "\n",
    "    def __init__(self):\n",
    "        self._start_time = None\n",
    "        self._num_occurrences = 0\n",
    "\n",
    "    def start(self):\n",
    "        self._start_time = datetime.now()\n",
    "        return self\n",
    "\n",
    "    def increment(self):\n",
    "        self._num_occurrences += 1\n",
    "\n",
    "    def countsPerSec(self):\n",
    "        elapsed_time = (datetime.now() - self._start_time).total_seconds()\n",
    "        return self._num_occurrences / elapsed_time if elapsed_time > 0 else 0"
   ]
  },
  {
   "cell_type": "code",
   "execution_count": 3,
   "metadata": {},
   "outputs": [],
   "source": [
    "class VideoShow:\n",
    "    \"\"\"\n",
    "    Class that continuously shows a frame using a dedicated thread.\n",
    "    \"\"\"\n",
    "\n",
    "    def __init__(self,name,frame=None):\n",
    "        self.frame = frame\n",
    "        self.stopped = False\n",
    "        self.thread = None\n",
    "        self.name = name\n",
    "\n",
    "    def start(self):\n",
    "        self.thread = Thread(target=self.show, args=())\n",
    "        self.thread.start()\n",
    "        return self\n",
    "\n",
    "    def show(self):\n",
    "        while not self.stopped:\n",
    "            cv2.imshow(self.name, self.frame)\n",
    "            if cv2.waitKey(1) == ord(\"q\"):\n",
    "                self.stopped = True\n",
    "                cv2.destroyAllWindows()\n",
    "\n",
    "    def stop(self):\n",
    "        print(\"stopshow\")\n",
    "        self.stopped = True\n",
    "        self.thread.join()"
   ]
  },
  {
   "cell_type": "code",
   "execution_count": 4,
   "metadata": {},
   "outputs": [],
   "source": [
    "class VideoGet:\n",
    "    \"\"\"\n",
    "    Class that continuously gets frames from a VideoCapture object\n",
    "    with a dedicated thread.\n",
    "    \"\"\"\n",
    "\n",
    "    def __init__(self, src=0):\n",
    "        self.stream = cv2.VideoCapture(src)\n",
    "        (self.grabbed, self.frame) = self.stream.read()\n",
    "        self.stopped = False\n",
    "        self.thread = None\n",
    "\n",
    "    def start(self):    \n",
    "        self.thread = Thread(target=self.get, args=())\n",
    "        self.thread.start()\n",
    "        return self\n",
    "\n",
    "    def get(self):\n",
    "        while not self.stopped:\n",
    "            if not self.grabbed:\n",
    "                self.stop()\n",
    "            else:\n",
    "                (self.grabbed, self.frame) = self.stream.read()\n",
    "\n",
    "    def stop(self):\n",
    "        print(\"stopget\")\n",
    "        self.stopped = True\n",
    "        self.thread.join()\n",
    "        self.stream.release()\n"
   ]
  },
  {
   "cell_type": "code",
   "execution_count": null,
   "metadata": {},
   "outputs": [],
   "source": [
    "import Queue\n",
    "frames = Queue(10)"
   ]
  },
  {
   "cell_type": "code",
   "execution_count": 5,
   "metadata": {},
   "outputs": [],
   "source": [
    "def threadBoth2():\n",
    "    \"\"\"\n",
    "    Dedicated thread for grabbing video frames with VideoGet object.\n",
    "    Dedicated thread for showing video frames with VideoShow object.\n",
    "    Main thread serves only to pass frames between VideoGet and\n",
    "    VideoShow objects/threads.\n",
    "    \"\"\"\n",
    "\n",
    "    video_getter = VideoGet(\"/dev/video0\").start()\n",
    "    time.sleep(2)\n",
    "#     video_shower = VideoShow(\"video\",video_getter.frame).start()\n",
    "    \n",
    "#     bg_getter = VideoGet(\"bg/beach.mp4\").start()\n",
    "    bg_shower = VideoShow(\"beach\",video_getter.frame).start()\n",
    "\n",
    "    cps = CountsPerSec().start()\n",
    "\n",
    "    while True:\n",
    "#         if video_getter.stopped or video_shower.stopped or bg_getter.stopped or bg_shower.stopped:\n",
    "#         if video_getter.stopped or video_shower.stopped or bg_shower.stopped:\n",
    "        if video_getter.stopped or bg_shower.stopped:\n",
    "#             video_shower.stop()\n",
    "            video_getter.stop()\n",
    "#             bg_getter.stop()\n",
    "            bg_shower.stop()\n",
    "            break\n",
    "\n",
    "        frame = video_getter.frame\n",
    "        frame = putIterationsPerSec(frame, cps.countsPerSec())\n",
    "#         video_shower.frame = frame\n",
    "        \n",
    "#         frame = bg_getter.frame\n",
    "#         frame = putIterationsPerSec(frame, cps.countsPerSec())\n",
    "        bg_shower.frame = frame       \n",
    "        \n",
    "        \n",
    "        cps.increment()"
   ]
  },
  {
   "cell_type": "code",
   "execution_count": 6,
   "metadata": {},
   "outputs": [
    {
     "name": "stdout",
     "output_type": "stream",
     "text": [
      "stopget\n",
      "stopshow\n"
     ]
    }
   ],
   "source": [
    "threadBoth2()"
   ]
  },
  {
   "cell_type": "code",
   "execution_count": null,
   "metadata": {},
   "outputs": [],
   "source": []
  },
  {
   "cell_type": "code",
   "execution_count": 7,
   "metadata": {},
   "outputs": [],
   "source": [
    "# def threadVideoShow(source=0):\n",
    "#     \"\"\"\n",
    "#     Dedicated thread for showing video frames with VideoShow object.\n",
    "#     Main thread grabs video frames.\n",
    "#     \"\"\"\n",
    "\n",
    "#     cap = cv2.VideoCapture(source)\n",
    "#     (grabbed, frame) = cap.read()\n",
    "#     video_shower = VideoShow(frame).start()\n",
    "#     cps = CountsPerSec().start()\n",
    "\n",
    "#     while True:\n",
    "#         (grabbed, frame) = cap.read()\n",
    "#         if not grabbed or video_shower.stopped:\n",
    "#             video_shower.stop()\n",
    "#             cap.release()\n",
    "#             break\n",
    "\n",
    "#         frame = putIterationsPerSec(frame, cps.countsPerSec())\n",
    "#         video_shower.frame = frame\n",
    "#         cps.increment()"
   ]
  },
  {
   "cell_type": "code",
   "execution_count": 8,
   "metadata": {},
   "outputs": [],
   "source": [
    "# def noThreading(source=0):\n",
    "#     \"\"\"Grab and show video frames without multithreading.\"\"\"\n",
    "\n",
    "#     cap = cv2.VideoCapture(source)\n",
    "#     cps = CountsPerSec().start()\n",
    "\n",
    "#     while True:\n",
    "#         grabbed, frame = cap.read()\n",
    "#         if not grabbed or cv2.waitKey(1) == ord(\"q\"):\n",
    "#             cap.release()\n",
    "#             cv2.destroyAllWindows()\n",
    "#             break\n",
    "\n",
    "#         frame = putIterationsPerSec(frame, cps.countsPerSec())\n",
    "#         cv2.imshow(\"Video\", frame)\n",
    "#         cps.increment()"
   ]
  },
  {
   "cell_type": "code",
   "execution_count": 9,
   "metadata": {},
   "outputs": [],
   "source": [
    "# def threadBoth(source=0):\n",
    "#     \"\"\"\n",
    "#     Dedicated thread for grabbing video frames with VideoGet object.\n",
    "#     Dedicated thread for showing video frames with VideoShow object.\n",
    "#     Main thread serves only to pass frames between VideoGet and\n",
    "#     VideoShow objects/threads.\n",
    "#     \"\"\"\n",
    "\n",
    "#     video_getter = VideoGet(source).start()\n",
    "#     video_shower = VideoShow(video_getter.frame).start()\n",
    "#     cps = CountsPerSec().start()\n",
    "\n",
    "#     while True:\n",
    "#         if video_getter.stopped or video_shower.stopped:\n",
    "#             video_shower.stop()\n",
    "#             video_getter.stop()\n",
    "#             break\n",
    "\n",
    "#         frame = video_getter.frame\n",
    "#         frame = putIterationsPerSec(frame, cps.countsPerSec())\n",
    "#         video_shower.frame = frame\n",
    "#         cps.increment()"
   ]
  },
  {
   "cell_type": "code",
   "execution_count": 10,
   "metadata": {},
   "outputs": [],
   "source": [
    "# threadVideoShow(\"bg/beach.mp4\")"
   ]
  },
  {
   "cell_type": "code",
   "execution_count": 11,
   "metadata": {},
   "outputs": [],
   "source": [
    "# noThreading(\"bg/beach.mp4\")"
   ]
  },
  {
   "cell_type": "code",
   "execution_count": 12,
   "metadata": {},
   "outputs": [],
   "source": [
    "# threadBoth(0)"
   ]
  },
  {
   "cell_type": "code",
   "execution_count": null,
   "metadata": {},
   "outputs": [],
   "source": []
  }
 ],
 "metadata": {
  "kernelspec": {
   "display_name": "Python 3",
   "language": "python",
   "name": "python3"
  },
  "language_info": {
   "codemirror_mode": {
    "name": "ipython",
    "version": 3
   },
   "file_extension": ".py",
   "mimetype": "text/x-python",
   "name": "python",
   "nbconvert_exporter": "python",
   "pygments_lexer": "ipython3",
   "version": "3.6.9"
  }
 },
 "nbformat": 4,
 "nbformat_minor": 2
}
